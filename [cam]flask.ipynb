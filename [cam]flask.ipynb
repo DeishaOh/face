{
 "cells": [
  {
   "cell_type": "code",
   "execution_count": null,
   "id": "04225453",
   "metadata": {},
   "outputs": [],
   "source": [
    "from flask import Flask, render_template, Response\n",
    "import cv2\n",
    "import time\n",
    "from datetime import datetime\n",
    "import sys\n",
    "import numpy as np"
   ]
  },
  {
   "cell_type": "code",
   "execution_count": null,
   "id": "74480b08",
   "metadata": {},
   "outputs": [],
   "source": [
    "from flask import Flask, render_template, Response\n",
    "from datetime import datetime\n",
    "import cv2\n",
    "import numpy as np\n",
    "import time\n",
    "import sys\n",
    "\n",
    "face_cascade = cv2.CascadeClassifier(\"xml/haarcascade_frontalface_default.xml\")\n",
    "\n",
    "app = Flask(__name__)\n",
    "now = datetime.now()\n",
    "#now = datetime.datetime.now()\n",
    "time_string = now.strftime(\"%Y - %m - %d  %H : %M\")\n",
    "\n",
    "lastTime = time.time()*1000.0\n",
    "delt = time.time()*1000.0-lastTime\n",
    "s = str(int(delt))\n",
    "\n",
    "@app.route(\"/\")\n",
    "def index():\n",
    "    template_data = {\n",
    "        'title':'face_recog_flask',\n",
    "        'time': time_string\n",
    "        }\n",
    "    return render_template('index.html', **template_data)\n",
    "    \n",
    "    \n",
    "def face_recognition():\n",
    "    camera = cv2.VideoCapture(0)\n",
    "    time.sleep(0.2)\n",
    "    #lastTime = time.time()*1000.0\n",
    "\n",
    "    while True:\n",
    "        ret, image = camera.read()\n",
    "        gray = cv2.cvtColor(image, cv2.COLOR_BGR2GRAY)\n",
    "       \n",
    "        faces = face_cascade.detectMultiScale(gray,scaleFactor=1.1,minNeighbors=6)\n",
    "        #delt = time.time()*1000.0-lastTime\n",
    "        #s = str(int(delt))\n",
    "        #print (delt,\" Found {0} faces!\".format(len(faces)) )\n",
    "        lastTime = time.time()*1000.0\n",
    "        \n",
    "        # Draw a rectangle around the faces\n",
    "        for (x, y, w, h) in faces:\n",
    "            #cv2.circle(image, (int(x+w/2), int(y+h/2)), int((w+h)/3), (255, 255, 255), 3)\n",
    "            cv2.rectangle(image, (x,y), (x+w, y+h), (255,255,255), thickness=2)\n",
    "            \n",
    "        cv2.putText(image, s, (10, 25),cv2.FONT_HERSHEY_SIMPLEX, 0.7, (0, 255, 0), 2)\n",
    "        \n",
    "        \n",
    "        cv2.putText(image, time_string, (10, 45),cv2.FONT_HERSHEY_SIMPLEX, 0.7, (255, 0, 0), 2)\n",
    "        cv2.imshow(\"Frame\", image)\n",
    "        key = cv2.waitKey(1) & 0xFF\n",
    "     # if the `q` key was pressed, break from the loop\n",
    "        if key == ord(\"q\"):\n",
    "            break\n",
    "   \n",
    "        ret, buffer = cv2.imencode('.jpg', image)\n",
    "        frame = buffer.tobytes()\n",
    "        yield (b'--frame\\r\\n'\n",
    "               b'Content-Type: image/jpeg\\r\\n\\r\\n' + frame + b'\\r\\n')\n",
    "       \n",
    " \n",
    "\n",
    "@app.route(\"/live_feed\")\n",
    "def live_feed():\n",
    "    return Response(face_recognition(), mimetype='multipart/x-mixed-replace; boundary=frame')\n",
    "\n",
    "if __name__ == \"__main__\":\n",
    "    app.run(host = \"0.0.0.0\")"
   ]
  },
  {
   "cell_type": "code",
   "execution_count": null,
   "id": "5225d95d",
   "metadata": {},
   "outputs": [],
   "source": [
    "now_time = time.time()\n",
    "now_time"
   ]
  },
  {
   "cell_type": "code",
   "execution_count": null,
   "id": "9d99ef95",
   "metadata": {},
   "outputs": [],
   "source": [
    "a = datetime.now()\n",
    "a\n",
    "now = a"
   ]
  },
  {
   "cell_type": "code",
   "execution_count": null,
   "id": "9763ba0a",
   "metadata": {},
   "outputs": [],
   "source": [
    "time_string = now.strftime(\"%Y년 %m월 %d일  %H시 %M분\")\n",
    "time_string"
   ]
  },
  {
   "cell_type": "code",
   "execution_count": null,
   "id": "e3b37611",
   "metadata": {},
   "outputs": [],
   "source": [
    "cv2.error: OpenCV(4.5.3) C:\\Users\\runneradmin\\AppData\\Local\\Temp\\pip-req-build-u4kjpz2z\\opencv\\modules\\objdetect\\src\\cascadedetect.cpp:1689: error: (-215:Assertion failed) !empty() in function 'cv::CascadeClassifier::detectMultiScale'"
   ]
  }
 ],
 "metadata": {
  "kernelspec": {
   "display_name": "Python 3",
   "language": "python",
   "name": "python3"
  },
  "language_info": {
   "codemirror_mode": {
    "name": "ipython",
    "version": 3
   },
   "file_extension": ".py",
   "mimetype": "text/x-python",
   "name": "python",
   "nbconvert_exporter": "python",
   "pygments_lexer": "ipython3",
   "version": "3.8.8"
  }
 },
 "nbformat": 4,
 "nbformat_minor": 5
}

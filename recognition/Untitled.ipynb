{
 "cells": [
  {
   "cell_type": "markdown",
   "id": "967e67f0",
   "metadata": {},
   "source": [
    "참고사이트 https://blog.naver.com/ljy9378/221438230814"
   ]
  },
  {
   "cell_type": "markdown",
   "id": "a8e69799",
   "metadata": {},
   "source": [
    "다른사이트 https://m.blog.naver.com/chandong83/221436424539"
   ]
  }
 ],
 "metadata": {
  "kernelspec": {
   "display_name": "Python 3",
   "language": "python",
   "name": "python3"
  },
  "language_info": {
   "codemirror_mode": {
    "name": "ipython",
    "version": 3
   },
   "file_extension": ".py",
   "mimetype": "text/x-python",
   "name": "python",
   "nbconvert_exporter": "python",
   "pygments_lexer": "ipython3",
   "version": "3.8.8"
  }
 },
 "nbformat": 4,
 "nbformat_minor": 5
}

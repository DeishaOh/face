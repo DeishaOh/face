{
 "cells": [
  {
   "cell_type": "code",
   "execution_count": 2,
   "id": "fb1db896",
   "metadata": {},
   "outputs": [
    {
     "name": "stdout",
     "output_type": "stream",
     "text": [
      "\n",
      " 학습중입니다...\n",
      "\n",
      " [INFO] 5 명이 학습되었습니다. 프로그램 종료\n"
     ]
    }
   ],
   "source": [
    "import cv2\n",
    "import numpy as np\n",
    "from PIL import Image\n",
    "import os\n",
    "\n",
    "# database 호출\n",
    "path = 'dataset'\n",
    "recognizer = cv2.face.LBPHFaceRecognizer_create()\n",
    "detector = cv2.CascadeClassifier(\"xml/haarcascade_frontalface_default.xml\");\n",
    "\n",
    "# 이미지 가져와서 라벨링\n",
    "def getImagesAndLabels(path):\n",
    "    imagePaths = [os.path.join(path,f) for f in os.listdir(path)]     \n",
    "    faceSamples=[]\n",
    "    ids = []\n",
    "    \n",
    "    for imagePath in imagePaths:\n",
    "        PIL_img = Image.open(imagePath).convert('L') # 그레이스케일 변환\n",
    "        img_numpy = np.array(PIL_img,'uint8')\n",
    "        id = int(os.path.split(imagePath)[-1].split(\".\")[1])\n",
    "        faces = detector.detectMultiScale(img_numpy)\n",
    "        \n",
    "        for (x,y,w,h) in faces:\n",
    "            faceSamples.append(img_numpy[y:y+h,x:x+w])\n",
    "            ids.append(id)\n",
    "            \n",
    "    return faceSamples,ids\n",
    "\n",
    "print (\"\\n 학습중입니다...\")\n",
    "faces,ids = getImagesAndLabels(path)\n",
    "recognizer.train(faces, np.array(ids))\n",
    "\n",
    "# yml 파일 저장\n",
    "recognizer.write('trainer/trainer.yml') \n",
    "\n",
    "# 학습된 라벨 갯수 출력\n",
    "print(\"\\n [INFO] {0} 명이 학습되었습니다. 프로그램 종료\".format(len(np.unique(ids))))\n"
   ]
  },
  {
   "cell_type": "code",
   "execution_count": null,
   "id": "c71d67e1",
   "metadata": {},
   "outputs": [],
   "source": []
  }
 ],
 "metadata": {
  "kernelspec": {
   "display_name": "Python 3",
   "language": "python",
   "name": "python3"
  },
  "language_info": {
   "codemirror_mode": {
    "name": "ipython",
    "version": 3
   },
   "file_extension": ".py",
   "mimetype": "text/x-python",
   "name": "python",
   "nbconvert_exporter": "python",
   "pygments_lexer": "ipython3",
   "version": "3.8.8"
  }
 },
 "nbformat": 4,
 "nbformat_minor": 5
}

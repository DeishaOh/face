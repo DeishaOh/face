{
 "cells": [
  {
   "cell_type": "code",
   "execution_count": 5,
   "id": "6f019f6a",
   "metadata": {},
   "outputs": [],
   "source": [
    "import cv2"
   ]
  },
  {
   "cell_type": "code",
   "execution_count": 6,
   "id": "e855343f",
   "metadata": {},
   "outputs": [],
   "source": [
    "#가중치 파일 경로\n",
    "cascade_filename = 'xml/haarcascade_frontalface_alt.xml'\n",
    "#모델 불러오기\n",
    "cascade = cv2.CascadeClassifier(cascade_filename)"
   ]
  },
  {
   "cell_type": "code",
   "execution_count": 7,
   "id": "b7da6409",
   "metadata": {},
   "outputs": [
    {
     "data": {
      "text/plain": [
       "True"
      ]
     },
     "execution_count": 7,
     "metadata": {},
     "output_type": "execute_result"
    }
   ],
   "source": [
    "#사진\n",
    "img = cv2.imread('sample/jpg/sample1.jpg')\n",
    "\n",
    "#영상\n",
    "video = cv2.VideoCapture('sample/mp4/sample1.mp4')\n",
    "\n",
    "#카메라\n",
    "cam = cv2.VideoCapture(0)\n",
    "cam.set(cv2.CAP_PROP_FRAME_WIDTH,1280)#CAP_PROP_FRAME_WIDTH == 3\n",
    "cam.set(cv2.CAP_PROP_FRAME_HEIGHT,720)#CAP_PROP_FRAME_HEIGHT == 4"
   ]
  },
  {
   "cell_type": "code",
   "execution_count": 8,
   "id": "709bc469",
   "metadata": {},
   "outputs": [],
   "source": [
    "#사진 출력\n",
    "def imgDetector(img, cascade):\n",
    "    #이미지압축\n",
    "    img = cv2.resize(img, dsize = None, fx = 1.0, fy = 1.0)\n",
    "    #그레이 스케일\n",
    "    gray = cv2.cvtColor(img, cv2.COLOR_BGR2GRAY)\n",
    "    \n",
    "    #cascade 얼굴 탐지 알고리즘\n",
    "    results = cascade.detectMultiScale(\n",
    "                                #입력이미지\n",
    "                                gray,     \n",
    "                                #이미지 피라미드 스케일 factor\n",
    "                                #값이 커지면 탐지율 감소, 연산량 \n",
    "                                 scaleFactor = 1.5,    \n",
    "                                #인접 객체 최소 거리 픽셀\n",
    "                                 minNeighbors = 5,     \n",
    "                                #탐지 객체 최소 크기\n",
    "                                 minSize = (20, 20)    \n",
    "                                 )\n",
    "\n",
    "    #결과값 = 탐지된 객체의 경계상자 list\n",
    "    for box in results:\n",
    "        #좌표 추출\n",
    "        x, y, w, h = box\n",
    "        #경계 상자 그리기\n",
    "        cv2.rectangle(img, (x,y), (x+w, y+h), (255, 255, 255), thickness = 2)\n",
    "        \n",
    "    #사진 출력\n",
    "    cv2.imshow('faceImg', img)\n",
    "    cv2.waitKey(27)\n",
    "    cv2.destroyAllWindows()"
   ]
  },
  {
   "cell_type": "code",
   "execution_count": 6,
   "id": "35bba958",
   "metadata": {},
   "outputs": [],
   "source": [
    "#영상 재생\n",
    "def videoDetector(video, cascade):\n",
    "    while True:\n",
    "        #캡쳐 이미지\n",
    "        ret, img = video.read()\n",
    "        #영상 압축\n",
    "        img = cv2.resize(img, dsize = None, fx = 0.75, fy = 0.75)\n",
    "        #그레이 스케일 변환\n",
    "        gray = cv2.cvtColor(img, cv2.COLOR_BGR2GRAY)\n",
    "\n",
    "            #cascade 얼굴 탐지 알고리즘\n",
    "        results = cascade.detectMultiScale(\n",
    "                                #입력이미지\n",
    "                                gray,     \n",
    "                                #이미지 피라미드 스케일 factor\n",
    "                                #값이 커지면 탐지율 감소, 연산량 \n",
    "                                 scaleFactor = 1.5,    \n",
    "                                #인접 객체 최소 거리 픽셀\n",
    "                                 minNeighbors = 5,     \n",
    "                                #탐지 객체 최소 크기\n",
    "                                 minSize = (20, 20)    \n",
    "                                 )\n",
    "\n",
    "        #결과값 = 탐지된 객체의 경계상자 list\n",
    "        for box in results:\n",
    "            #좌표 추출\n",
    "            x, y, w, h = box\n",
    "            #경계 상자 그리기\n",
    "            cv2.rectangle(img, (x,y), (x+w, y+h), (255, 255, 255), thickness = 2)\n",
    "            \n",
    "        #영상 출력\n",
    "        cv2.imshow('faceVideo', img)\n",
    "        if cv2.waitKey(27)>0:\n",
    "            cv2.destroyAllWindows()\n",
    "            break\n",
    "        "
   ]
  },
  {
   "cell_type": "code",
   "execution_count": 4,
   "id": "50ffe77d",
   "metadata": {},
   "outputs": [
    {
     "name": "stdout",
     "output_type": "stream",
     "text": [
      "\n",
      " enter user id end press <return> ==> start\n",
      "\n",
      " [INFO] Initializing face capture. Look the camera and wait ...\n"
     ]
    }
   ],
   "source": []
  },
  {
   "cell_type": "code",
   "execution_count": 9,
   "id": "ad667193",
   "metadata": {},
   "outputs": [],
   "source": [
    "#이미지 결과 출력\n",
    "imgDetector(img, cascade)"
   ]
  },
  {
   "cell_type": "code",
   "execution_count": 8,
   "id": "8c3a0df5",
   "metadata": {},
   "outputs": [],
   "source": [
    "#영상 결과 출력\n",
    "videoDetector(video, cascade)"
   ]
  },
  {
   "cell_type": "code",
   "execution_count": null,
   "id": "85772811",
   "metadata": {},
   "outputs": [],
   "source": []
  }
 ],
 "metadata": {
  "kernelspec": {
   "display_name": "Python 3",
   "language": "python",
   "name": "python3"
  },
  "language_info": {
   "codemirror_mode": {
    "name": "ipython",
    "version": 3
   },
   "file_extension": ".py",
   "mimetype": "text/x-python",
   "name": "python",
   "nbconvert_exporter": "python",
   "pygments_lexer": "ipython3",
   "version": "3.8.8"
  }
 },
 "nbformat": 4,
 "nbformat_minor": 5
}

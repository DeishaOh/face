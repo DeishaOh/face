{
 "cells": [
  {
   "cell_type": "markdown",
   "id": "47f32858",
   "metadata": {},
   "source": [
    "https://m.blog.naver.com/PostView.naver?isHttpsRedirect=true&blogId=prkim99&logNo=221981158599"
   ]
  },
  {
   "cell_type": "markdown",
   "id": "0f03238a",
   "metadata": {},
   "source": [
    "- https://daechu.tistory.com/34\n",
    "- https://github.com/dnfwlxo11/cocosplit_train_test_valid"
   ]
  },
  {
   "cell_type": "markdown",
   "id": "7ecd5a3d",
   "metadata": {},
   "source": [
    "- https://arclab.tistory.com/232\n",
    "- https://github.com/waspinator/pycococreator\n",
    "- https://github.com/asyncbridge/pycococreator\n",
    "\n",
    "\n",
    "    "
   ]
  },
  {
   "cell_type": "markdown",
   "id": "ad572416",
   "metadata": {},
   "source": [
    "https://hansonminlearning.tistory.com/52"
   ]
  }
 ],
 "metadata": {
  "kernelspec": {
   "display_name": "Python 3",
   "language": "python",
   "name": "python3"
  },
  "language_info": {
   "codemirror_mode": {
    "name": "ipython",
    "version": 3
   },
   "file_extension": ".py",
   "mimetype": "text/x-python",
   "name": "python",
   "nbconvert_exporter": "python",
   "pygments_lexer": "ipython3",
   "version": "3.8.8"
  }
 },
 "nbformat": 4,
 "nbformat_minor": 5
}
